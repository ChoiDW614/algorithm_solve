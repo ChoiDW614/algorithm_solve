{
 "cells": [
  {
   "cell_type": "code",
   "execution_count": 7,
   "id": "9131dbbe",
   "metadata": {},
   "outputs": [
    {
     "name": "stdout",
     "output_type": "stream",
     "text": [
      "1\n",
      "1 1 1 1\n",
      "1\n"
     ]
    }
   ],
   "source": [
    "tc = int(input())\n",
    "\n",
    "\n",
    "def gcd(a, b):\n",
    "    if a < b:\n",
    "        return gcd(b, a)\n",
    "    elif a % b == 0:\n",
    "        return b\n",
    "    return gcd(b, a % b)\n",
    "\n",
    "\n",
    "def match(a, b, x):\n",
    "    for i in b:\n",
    "        if i % a == 0:\n",
    "            return i + x\n",
    "    else:\n",
    "        return -1\n",
    "\n",
    "\n",
    "while tc != 0:\n",
    "    M, N, x, y = list(map(int, input().split()))\n",
    "    ls = [(N*i+y)-x for i in range(int(M / gcd(M, N)))]\n",
    "    print(match(M, ls, x))\n",
    "    tc = tc -1"
   ]
  }
 ],
 "metadata": {
  "kernelspec": {
   "display_name": "Python 3 (ipykernel)",
   "language": "python",
   "name": "python3"
  },
  "language_info": {
   "codemirror_mode": {
    "name": "ipython",
    "version": 3
   },
   "file_extension": ".py",
   "mimetype": "text/x-python",
   "name": "python",
   "nbconvert_exporter": "python",
   "pygments_lexer": "ipython3",
   "version": "3.7.13"
  }
 },
 "nbformat": 4,
 "nbformat_minor": 5
}
