{
 "cells": [
  {
   "cell_type": "code",
   "execution_count": 22,
   "id": "aee7d600",
   "metadata": {},
   "outputs": [
    {
     "name": "stdout",
     "output_type": "stream",
     "text": [
      "3 3\n",
      "100\n",
      "110\n",
      "011\n",
      "[[False, False, False], [False, False, False], [False, False, False]]\n",
      "[['1', '0', '0'], ['1', '1', '0'], ['0', '1', '1']]\n",
      "0 0 0\n"
     ]
    }
   ],
   "source": [
    "N, M = list(map(int, input().split()))\n",
    "dr = [1, 0, -1, 0]\n",
    "dc = [0, 1, 0, -1]\n",
    "visited = [[False for _ in range(M)] for _ in range(N)]\n",
    "# graph_input = [list(map(str, input())) for _ in range(N)]\n",
    "\n",
    "graph = [list(input()) for _ in range(N)]\n",
    "        \n",
    "print(visited)\n",
    "print(graph)\n",
    "\n",
    "def dfs(x, y, depth):\n",
    "    print(x, y, depth)\n",
    "    depth = depth + 1\n",
    "    for i in range(4):\n",
    "        nr = x + dr[i]\n",
    "        nc = y + dc[i]\n",
    "        if nr == N-1 and nc == M-1:\n",
    "            print(depth)\n",
    "            return\n",
    "        \n",
    "        if nr >= 0 and nr < N and nc >= 0 and nc < M and visited[nr][nc] == False and graph[nc][nr] == '1':\n",
    "            visited[nr][nc] = True\n",
    "            dfs(nr, nc, depth)\n",
    "\n",
    "dfs(0, 0, 0)"
   ]
  },
  {
   "cell_type": "code",
   "execution_count": null,
   "id": "fa956cfb",
   "metadata": {},
   "outputs": [],
   "source": []
  }
 ],
 "metadata": {
  "kernelspec": {
   "display_name": "Python 3 (ipykernel)",
   "language": "python",
   "name": "python3"
  },
  "language_info": {
   "codemirror_mode": {
    "name": "ipython",
    "version": 3
   },
   "file_extension": ".py",
   "mimetype": "text/x-python",
   "name": "python",
   "nbconvert_exporter": "python",
   "pygments_lexer": "ipython3",
   "version": "3.7.13"
  }
 },
 "nbformat": 4,
 "nbformat_minor": 5
}
