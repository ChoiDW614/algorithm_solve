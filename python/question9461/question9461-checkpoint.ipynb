{
 "cells": [
  {
   "cell_type": "code",
   "execution_count": 11,
   "id": "e2a9197b",
   "metadata": {},
   "outputs": [
    {
     "name": "stdout",
     "output_type": "stream",
     "text": [
      "2\n",
      "85\n",
      "13091204281\n",
      "96\n",
      "288627200960\n"
     ]
    }
   ],
   "source": [
    "tc = int(input())\n",
    "ls = [0 for _ in range(102)]\n",
    "ls[1] = 1\n",
    "ls[2] = 1\n",
    "ls[3] = 1\n",
    "ls[4] = 2\n",
    "ls[5] = 2\n",
    "\n",
    "\n",
    "def count(n):\n",
    "    if n <= 5:\n",
    "        return ls[n]\n",
    "    elif ls[n] != 0:\n",
    "        return ls[n]\n",
    "    else:\n",
    "        ls[n] = count(n - 1) + count(n - 5)\n",
    "        return ls[n]\n",
    "\n",
    "    \n",
    "while tc != 0:\n",
    "    num = int(input())\n",
    "    print(count(num))\n",
    "    tc = tc - 1\n"
   ]
  },
  {
   "cell_type": "code",
   "execution_count": null,
   "id": "89a58bbe",
   "metadata": {},
   "outputs": [],
   "source": []
  }
 ],
 "metadata": {
  "kernelspec": {
   "display_name": "numerical",
   "language": "python",
   "name": "numerical"
  },
  "language_info": {
   "codemirror_mode": {
    "name": "ipython",
    "version": 3
   },
   "file_extension": ".py",
   "mimetype": "text/x-python",
   "name": "python",
   "nbconvert_exporter": "python",
   "pygments_lexer": "ipython3",
   "version": "3.7.13"
  }
 },
 "nbformat": 4,
 "nbformat_minor": 5
}
